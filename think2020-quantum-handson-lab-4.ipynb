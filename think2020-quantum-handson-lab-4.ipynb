{
 "cells": [
  {
   "cell_type": "markdown",
   "metadata": {},
   "source": [
    "# Variational Quantum Eigensolvers (VQE)"
   ]
  },
  {
   "cell_type": "markdown",
   "metadata": {},
   "source": [
    "### Problem: Given a Hamiltonian $H$, find its ground state energy.\n",
    "\n",
    "**Solution**: take advantage of the **variational principle**. \n",
    "\n",
    "Variational principle: given $H$ whose minimum eigenvalue is $\\lambda_{min} \\equiv \\langle\\psi_{min}\\vert H \\vert\\psi_{min}\\rangle$ and any wavefunction $\\vert\\psi\\rangle$, \n",
    "\n",
    "$$\n",
    "\\lambda_{min} \\leq \\langle\\psi\\vert H \\vert\\psi\\rangle\n",
    "$$\n",
    "\n",
    "**Method**: Iteratively update $\\vert\\psi\\rangle$ and look for minima in $\\langle\\psi\\vert H \\vert\\psi\\rangle$."
   ]
  },
  {
   "cell_type": "markdown",
   "metadata": {},
   "source": [
    "### Let's do this for the single-qubit Hamiltionian\n",
    "\n",
    "$$H = \\sum\\limits_{i\\in(x,y,z)}\\alpha_i\\sigma_i$$"
   ]
  },
  {
   "cell_type": "code",
   "execution_count": 1,
   "metadata": {
    "pycharm": {
     "is_executing": true
    }
   },
   "outputs": [],
   "source": [
    "import warnings\n",
    "warnings.filterwarnings('ignore')"
   ]
  },
  {
   "cell_type": "code",
   "execution_count": 2,
   "metadata": {
    "pycharm": {
     "is_executing": true
    }
   },
   "outputs": [
    {
     "name": "stdout",
     "output_type": "stream",
     "text": [
      "[[ 1.+0.j -1.+0.j]\n",
      " [-1.+0.j -1.+0.j]]\n"
     ]
    }
   ],
   "source": [
    "import numpy as np\n",
    "\n",
    "alpha_x = -1\n",
    "alpha_y = 0\n",
    "alpha_z = 1\n",
    "\n",
    "sigma_x = np.array([[0, 1], [1, 0]])\n",
    "sigma_y = np.array([[0, -1j], [1j, 0]])\n",
    "sigma_z = np.array([[1, 0], [0, -1]])\n",
    "\n",
    "Hamiltonian = alpha_x * sigma_x + alpha_y * sigma_y + alpha_z * sigma_z\n",
    "print(Hamiltonian)"
   ]
  },
  {
   "cell_type": "markdown",
   "metadata": {},
   "source": [
    "You can decompose a Hamiltonian generally into the Pauli basis using well-known tricks. Here's a single-qubit example."
   ]
  },
  {
   "cell_type": "code",
   "execution_count": 3,
   "metadata": {},
   "outputs": [
    {
     "name": "stdout",
     "output_type": "stream",
     "text": [
      "-1.0 0j 1.0\n"
     ]
    }
   ],
   "source": [
    "def get_hamiltonian_pauli_coeffs():\n",
    "\n",
    "    sigma_x = np.array([[0, 1], [1, 0]])\n",
    "    sigma_y = np.array([[0, -1j], [1j, 0]])\n",
    "    sigma_z = np.array([[1, 0], [0, -1]])\n",
    "    \n",
    "    a_x = 0.5*np.trace(np.matmul(Hamiltonian, sigma_x))\n",
    "    a_y = 0.5*np.trace(np.matmul(Hamiltonian, sigma_y))\n",
    "    a_z = 0.5*np.trace(np.matmul(Hamiltonian, sigma_z))\n",
    "    \n",
    "    return [a_x, a_y, a_z]\n",
    "\n",
    "Hamiltonian = [[ 1, -1], [ -1, -1]]\n",
    "[alpha_x, alpha_y, alpha_z] = get_hamiltonian_pauli_coeffs()\n",
    "print(alpha_x, alpha_y, alpha_z)"
   ]
  },
  {
   "cell_type": "markdown",
   "metadata": {},
   "source": [
    "### Method 1: Exact solution"
   ]
  },
  {
   "cell_type": "code",
   "execution_count": 4,
   "metadata": {},
   "outputs": [
    {
     "name": "stdout",
     "output_type": "stream",
     "text": [
      "Eigenvector [ 0.92387953 -0.38268343] has energy 1.414213562373095\n",
      "Eigenvector [0.38268343 0.92387953] has energy -1.4142135623730951\n"
     ]
    }
   ],
   "source": [
    "from numpy import linalg as LA\n",
    "eigenvalues, eigenvectors = LA.eig(Hamiltonian)\n",
    "for ii, eigenvalue in enumerate(eigenvalues):\n",
    "    print(f\"Eigenvector {eigenvectors[:,ii]} has energy {eigenvalue}\")\n",
    "\n",
    "exact_eigenvector = eigenvectors[:,np.argmin(eigenvalues)]\n",
    "exact_eigenvalue = np.min(eigenvalues)"
   ]
  },
  {
   "cell_type": "markdown",
   "metadata": {},
   "source": [
    "### Method 2: VQE"
   ]
  },
  {
   "cell_type": "markdown",
   "metadata": {},
   "source": [
    "We need three components. \n",
    "1. Create a candidate wavefunction $\\vert\\psi(\\mathbf{\\theta})\\rangle$\n",
    "2. Compute the expectation value $\\langle\\psi(\\mathbf{\\theta})\\vert H \\vert\\psi(\\mathbf{\\theta})\\rangle$\n",
    "3. Set up an iterator that drives the above two functions"
   ]
  },
  {
   "cell_type": "markdown",
   "metadata": {},
   "source": [
    "### Create $\\vert\\psi(\\mathbf{\\theta})\\rangle$"
   ]
  },
  {
   "cell_type": "code",
   "execution_count": 5,
   "metadata": {},
   "outputs": [],
   "source": [
    "from qiskit import QuantumCircuit\n",
    "\n",
    "def create_psi(params):\n",
    "    theta = params[0]\n",
    "    phi = params[1]\n",
    "    lam = params[2]\n",
    "    mycircuit = QuantumCircuit(1)\n",
    "    mycircuit.u3(theta, phi, lam, 0)\n",
    "    \n",
    "    return mycircuit"
   ]
  },
  {
   "cell_type": "markdown",
   "metadata": {},
   "source": [
    "### Compute the expectation value of $\\vert\\psi(\\mathbf{\\theta})\\rangle$"
   ]
  },
  {
   "cell_type": "markdown",
   "metadata": {},
   "source": [
    "Notice that $\\langle\\psi(\\mathbf{\\theta})\\vert H \\vert\\psi(\\mathbf{\\theta})\\rangle = \\sum\\limits_{i\\in(x,y,z)}\\alpha_i\\langle\\psi(\\mathbf{\\theta})\\vert\\sigma_i\\vert\\psi(\\mathbf{\\theta})\\rangle$\n",
    "\n",
    "Also notice that in Qiskit, measurements are along $Z$ axis. In other words, a measurement in Qiskit is \n",
    "\n",
    "$$\\text{measure}[\\vert\\psi(\\mathbf{\\theta})\\rangle]\\equiv \\langle\\psi(\\mathbf{\\theta})\\vert\\sigma_z\\vert\\psi(\\mathbf{\\theta})\\rangle$$\n",
    "\n",
    "Hence, to achieve the other axes of measurements, we need to apply the following tricks.\n",
    "\n",
    "$$\\langle\\psi(\\mathbf{\\theta})\\vert\\sigma_x\\vert\\psi(\\mathbf{\\theta})\\rangle =\\langle\\psi(\\mathbf{\\theta})\\vert H\\sigma_zH\\vert\\psi(\\mathbf{\\theta})\\rangle = \\text{measure}[H\\vert\\psi(\\mathbf{\\theta})\\rangle]$$\n",
    "\n",
    "and\n",
    "\n",
    "$$\\langle\\psi(\\mathbf{\\theta})\\vert\\sigma_y\\vert\\psi(\\mathbf{\\theta})\\rangle = \\langle\\psi(\\mathbf{\\theta})\\vert S\\sigma_xS^{\\dagger}\\vert\\psi(\\mathbf{\\theta})\\rangle = \\langle\\psi(\\mathbf{\\theta})\\vert SH\\sigma_zHS^{\\dagger}\\vert\\psi(\\mathbf{\\theta})\\rangle = \\text{measure}[HS^{\\dagger}\\vert\\psi(\\mathbf{\\theta})\\rangle]$$\n"
   ]
  },
  {
   "cell_type": "code",
   "execution_count": 6,
   "metadata": {
    "pycharm": {
     "is_executing": true
    }
   },
   "outputs": [],
   "source": [
    "from copy import deepcopy\n",
    "from qiskit import Aer, execute\n",
    "\n",
    "def get_expectation_z(given_circuit):\n",
    "    copied_circuit = deepcopy(given_circuit)\n",
    "    copied_circuit.measure_all()\n",
    "    result = execute(copied_circuit, backend=Aer.get_backend('qasm_simulator'), shots=10000).result()\n",
    "    counts = result.get_counts(copied_circuit)\n",
    "    \n",
    "    if '1' not in counts:\n",
    "        counts['1'] = 0\n",
    "    if '0' not in counts:\n",
    "        counts['0'] = 0\n",
    "        \n",
    "    return_value = 1.0 * counts['0'] - 1.0 * counts['1']\n",
    "    \n",
    "    return_value /= (counts['0'] + counts['1'])\n",
    "    \n",
    "    return return_value\n",
    "\n",
    "def get_expectation_x(given_circuit):\n",
    "    copied_circuit = deepcopy(given_circuit)\n",
    "    copied_circuit.h(0)\n",
    "    copied_circuit.measure_all()\n",
    "    result = execute(copied_circuit, backend=Aer.get_backend('qasm_simulator'), shots=10000).result()\n",
    "    counts = result.get_counts(copied_circuit)\n",
    "    \n",
    "    if '1' not in counts:\n",
    "        counts['1'] = 0\n",
    "    if '0' not in counts:\n",
    "        counts['0'] = 0\n",
    "        \n",
    "    return_value = 1.0 * counts['0'] - 1.0 * counts['1']\n",
    "    \n",
    "    return_value /= (counts['0'] + counts['1'])\n",
    "    \n",
    "    return return_value\n",
    "\n",
    "def get_expectation_y(given_circuit):\n",
    "    copied_circuit = deepcopy(given_circuit)\n",
    "    copied_circuit.sdg(0)\n",
    "    copied_circuit.h(0)\n",
    "    copied_circuit.measure_all()\n",
    "    result = execute(copied_circuit, backend=Aer.get_backend('qasm_simulator'), shots=10000).result()\n",
    "    counts = result.get_counts(copied_circuit)\n",
    "    \n",
    "    if '1' not in counts:\n",
    "        counts['1'] = 0\n",
    "    if '0' not in counts:\n",
    "        counts['0'] = 0\n",
    "        \n",
    "    return_value = 1.0 * counts['0'] - 1.0 * counts['1']\n",
    "    \n",
    "    return_value /= (counts['0'] + counts['1'])\n",
    "    \n",
    "    return return_value\n",
    "\n",
    "def get_expectation_value(given_circuit):\n",
    "    expectation_x = get_expectation_x(given_circuit)    \n",
    "    expectation_y = get_expectation_y(given_circuit)\n",
    "    expectation_z = get_expectation_z(given_circuit)\n",
    "    \n",
    "    total_expectation = alpha_x * expectation_x + alpha_y * expectation_y + alpha_z * expectation_z\n",
    "    \n",
    "    return total_expectation"
   ]
  },
  {
   "cell_type": "code",
   "execution_count": 7,
   "metadata": {},
   "outputs": [
    {
     "data": {
      "text/plain": [
       "(0.9938+0j)"
      ]
     },
     "execution_count": 7,
     "metadata": {},
     "output_type": "execute_result"
    }
   ],
   "source": [
    "get_expectation_value(create_psi([0,0,0]))"
   ]
  },
  {
   "cell_type": "markdown",
   "metadata": {},
   "source": [
    "### Set up classical iterator"
   ]
  },
  {
   "cell_type": "code",
   "execution_count": 8,
   "metadata": {},
   "outputs": [],
   "source": [
    "from scipy.optimize import minimize\n",
    "\n",
    "def run_once(params):\n",
    "    global exp_values\n",
    "    psi_circuit = create_psi(params)\n",
    "    expectation_value = get_expectation_value(psi_circuit)\n",
    "    exp_values.append(expectation_value)\n",
    "\n",
    "    return expectation_value\n",
    "\n",
    "def run_VQE(initial_params):\n",
    "    \n",
    "    ret = minimize(run_once, initial_params, method='COBYLA', \n",
    "                  options = {'tol': 1e-5, 'catol': 1e-5, 'maxiter':5000})\n",
    "\n",
    "    final_value_angles = ret.x\n",
    "    num_evals = ret.nfev\n",
    "    final_expectation = ret.fun\n",
    "    \n",
    "    print(final_value_angles, num_evals, final_expectation)"
   ]
  },
  {
   "cell_type": "code",
   "execution_count": 9,
   "metadata": {},
   "outputs": [
    {
     "name": "stdout",
     "output_type": "stream",
     "text": [
      "[2.34563377 0.16772492 1.15394623] 47 -1.411\n"
     ]
    }
   ],
   "source": [
    "exp_values = []\n",
    "run_VQE([0,0,0])"
   ]
  },
  {
   "cell_type": "code",
   "execution_count": 10,
   "metadata": {},
   "outputs": [
    {
     "data": {
      "text/plain": [
       "[<matplotlib.lines.Line2D at 0x134a9cca0>]"
      ]
     },
     "execution_count": 10,
     "metadata": {},
     "output_type": "execute_result"
    },
    {
     "data": {
      "image/png": "[encoded data removed]",
      "text/plain": [
       "<Figure size 432x288 with 1 Axes>"
      ]
     },
     "metadata": {
      "needs_background": "light"
     },
     "output_type": "display_data"
    }
   ],
   "source": [
    "import matplotlib.pyplot as plotter\n",
    "plotter.plot(exp_values)"
   ]
  },
  {
   "cell_type": "markdown",
   "metadata": {},
   "source": [
    "### Doing all of this in Qiskit Aqua automatically"
   ]
  },
  {
   "cell_type": "markdown",
   "metadata": {},
   "source": [
    "The Aqua element of Qiskit makes it incredibly easy to do all of the above work in a few easy steps."
   ]
  },
  {
   "cell_type": "code",
   "execution_count": 11,
   "metadata": {},
   "outputs": [
    {
     "data": {
      "text/plain": [
       "{'qiskit-terra': '0.14.1',\n",
       " 'qiskit-aer': '0.5.1',\n",
       " 'qiskit-ignis': '0.3.0',\n",
       " 'qiskit-ibmq-provider': '0.7.1',\n",
       " 'qiskit-aqua': '0.7.1',\n",
       " 'qiskit': '0.19.2'}"
      ]
     },
     "execution_count": 11,
     "metadata": {},
     "output_type": "execute_result"
    }
   ],
   "source": [
    "import qiskit\n",
    "qiskit.__qiskit_version__"
   ]
  },
  {
   "cell_type": "code",
   "execution_count": 12,
   "metadata": {},
   "outputs": [],
   "source": [
    "from qiskit.aqua.operators import *"
   ]
  },
  {
   "cell_type": "markdown",
   "metadata": {},
   "source": [
    "Let's rewrite the Hamiltonian matrix from above."
   ]
  },
  {
   "cell_type": "code",
   "execution_count": 13,
   "metadata": {},
   "outputs": [
    {
     "name": "stdout",
     "output_type": "stream",
     "text": [
      "[[1, -1], [-1, -1]]\n"
     ]
    }
   ],
   "source": [
    "Hamiltonian = [[1, -1], [ -1, -1]]\n",
    "print(Hamiltonian)"
   ]
  },
  {
   "cell_type": "markdown",
   "metadata": {},
   "source": [
    "Use Aqua's operator flow to turn this matrix into an operator. You can also see the Pauli representation."
   ]
  },
  {
   "cell_type": "code",
   "execution_count": 14,
   "metadata": {},
   "outputs": [
    {
     "name": "stdout",
     "output_type": "stream",
     "text": [
      "SummedOp(\n",
      "[-1.0 * X,\n",
      "Z])\n"
     ]
    }
   ],
   "source": [
    "hamiltonian_operator = MatrixOperator(Hamiltonian).to_opflow()\n",
    "print(hamiltonian_operator.to_pauli_op())"
   ]
  },
  {
   "cell_type": "markdown",
   "metadata": {},
   "source": [
    "In case we want to start by defining the Hamiltonian in Pauli notation, we can define it as follows."
   ]
  },
  {
   "cell_type": "code",
   "execution_count": 15,
   "metadata": {},
   "outputs": [
    {
     "name": "stdout",
     "output_type": "stream",
     "text": [
      "SummedOp(\n",
      "[Z,\n",
      "-1.0 * X])\n",
      "\n",
      "[[ 1.+0.j -1.+0.j]\n",
      " [-1.+0.j -1.+0.j]]\n"
     ]
    }
   ],
   "source": [
    "hamiltonian_operator = (1 * Z) + (-1 * X)\n",
    "print(hamiltonian_operator)\n",
    "print()\n",
    "print(hamiltonian_operator.to_matrix())"
   ]
  },
  {
   "cell_type": "markdown",
   "metadata": {},
   "source": [
    "As you can see above, the matrix form and the Pauli form are interchangeable in Aqua's operator flow. What remains is to set up VQE using `hamiltonian_operator` and a specific type of trial wavefunction. We will use a custom circuit here to prepare the trial wavefunction."
   ]
  },
  {
   "cell_type": "code",
   "execution_count": 16,
   "metadata": {},
   "outputs": [
    {
     "data": {
      "image/png": "[encoded data removed]",
      "text/plain": [
       "<Figure size 233.576x84.28 with 1 Axes>"
      ]
     },
     "execution_count": 16,
     "metadata": {},
     "output_type": "execute_result"
    }
   ],
   "source": [
    "from qiskit import QuantumCircuit\n",
    "from qiskit.circuit import Parameter\n",
    "\n",
    "wavefunction = QuantumCircuit(1)\n",
    "wavefunction.u3(Parameter('theta'), Parameter('phi'), Parameter('lambda'), 0)\n",
    "wavefunction.draw()"
   ]
  },
  {
   "cell_type": "markdown",
   "metadata": {},
   "source": [
    "And finally, let's set up VQE with our Hamiltonian operator and trial wavefunctions."
   ]
  },
  {
   "cell_type": "code",
   "execution_count": 17,
   "metadata": {
    "scrolled": false
   },
   "outputs": [
    {
     "name": "stdout",
     "output_type": "stream",
     "text": [
      "Minimum energy: (-1.41421355943526+0j)\n",
      "Optimal parameters:  {Parameter(lambda): -1.6851285382809378, Parameter(phi): -3.141507591805213, Parameter(theta): -2.3561713194420064}\n",
      "Eigenstate with min energy: [0.38269414+0.00000000e+00j 0.9238751 +7.85864645e-05j]\n"
     ]
    }
   ],
   "source": [
    "from qiskit.aqua.algorithms import VQE\n",
    "from qiskit.aqua.components.optimizers import COBYLA\n",
    "from qiskit import Aer\n",
    "\n",
    "optimizer = COBYLA(maxiter=100)\n",
    "backend = Aer.get_backend('statevector_simulator')\n",
    "vqe = VQE(var_form = wavefunction, operator=hamiltonian_operator, \n",
    "          optimizer=optimizer, quantum_instance=backend, )\n",
    "result = vqe.compute_minimum_eigenvalue()\n",
    "print('Minimum energy:', result.eigenvalue)\n",
    "print('Optimal parameters: ', result.optimal_parameters)\n",
    "print('Eigenstate with min energy:', result.eigenstate)"
   ]
  },
  {
   "cell_type": "markdown",
   "metadata": {},
   "source": [
    "### A Chemistry example"
   ]
  },
  {
   "cell_type": "markdown",
   "metadata": {},
   "source": [
    "Let's use the above examples to see how we can find the ground state energy of the Hydrogen molecule.\n",
    "\n",
    "As always, we start by defining the Hamiltonian. We will discuss later how this Hamiltonian can also be found easily using Qiskit."
   ]
  },
  {
   "cell_type": "code",
   "execution_count": 18,
   "metadata": {},
   "outputs": [],
   "source": [
    "h2_hamiltonian =(-1.0523732 * I^I) + \\\n",
    "                (0.39793742 * I^Z) + \\\n",
    "                (-0.3979374 * Z^I) + \\\n",
    "                (-0.0112801 * Z^Z) + \\\n",
    "                (0.18093119 * X^X)"
   ]
  },
  {
   "cell_type": "markdown",
   "metadata": {},
   "source": [
    "Note that the Hamiltonian describes Pauli operators on two qubits. `Z ^ I` means `Z` on the first qubit, and `I` (identity) on the second.\n",
    "\n",
    "Next, we set up the circuit that prepares the trial wavefunctions. We will set up an ansatz using the `EfficientSU2` circuit in Qiskit's circuit library with 2 qubits and 3 repetitions. By default, this will place `Ry` and `Rz` single-gates with two-qubit `CX` gates between each repetition."
   ]
  },
  {
   "cell_type": "code",
   "execution_count": 19,
   "metadata": {},
   "outputs": [
    {
     "data": {
      "image/png": "[encoded data removed]",
      "text/plain": [
       "<Figure size 840.392x144.48 with 1 Axes>"
      ]
     },
     "execution_count": 19,
     "metadata": {},
     "output_type": "execute_result"
    }
   ],
   "source": [
    "from qiskit.circuit.library import EfficientSU2\n",
    "wavefunction = EfficientSU2(num_qubits = h2_hamiltonian.num_qubits, reps=3)\n",
    "wavefunction.draw()"
   ]
  },
  {
   "cell_type": "markdown",
   "metadata": {},
   "source": [
    "Finally, we set up VQE with the Hamiltonian, the variational form that we have defined, and the `COBYLA` optimizer."
   ]
  },
  {
   "cell_type": "code",
   "execution_count": 20,
   "metadata": {},
   "outputs": [
    {
     "name": "stdout",
     "output_type": "stream",
     "text": [
      "Minimum energy: (-1.85727495584387+0j)\n",
      "Optimal parameters:  {Parameter(θ[0]): 0.12343808843366767, Parameter(θ[10]): 3.0743639600000314, Parameter(θ[11]): 2.2456576901437124, Parameter(θ[12]): 0.6827267374849265, Parameter(θ[13]): -1.3915877918847848, Parameter(θ[14]): -2.0261115199849016, Parameter(θ[15]): 1.169662494111262, Parameter(θ[1]): 2.1844473491124017, Parameter(θ[2]): 0.9057955619273581, Parameter(θ[3]): -0.6175760642366862, Parameter(θ[4]): -0.047121312642847676, Parameter(θ[5]): -1.5191999109481857, Parameter(θ[6]): 1.152769468914966, Parameter(θ[7]): -0.6441448857574456, Parameter(θ[8]): -2.346647673956139, Parameter(θ[9]): -2.3062691903567414}\n",
      "Eigenstate with min energy: [-2.19754811e-05-1.50008203e-05j -9.93441391e-01+2.51232439e-02j\n",
      "  1.11513039e-01-2.80479184e-03j -2.12891680e-05-9.17746269e-07j]\n"
     ]
    }
   ],
   "source": [
    "optimizer = COBYLA(maxiter=500)\n",
    "backend = Aer.get_backend('statevector_simulator')\n",
    "vqe = VQE(var_form = wavefunction, operator = h2_hamiltonian, \n",
    "          optimizer = optimizer, quantum_instance = backend)\n",
    "result = vqe.compute_minimum_eigenvalue()\n",
    "print('Minimum energy:', result.eigenvalue)\n",
    "print('Optimal parameters: ', result.optimal_parameters)\n",
    "print('Eigenstate with min energy:', result.eigenstate)"
   ]
  },
  {
   "cell_type": "markdown",
   "metadata": {},
   "source": [
    "As you can see above, the final result is a minimum energy of -1.857274. The reference energy is -1.857275, so we're not too far off."
   ]
  }
 ],
 "metadata": {
  "kernelspec": {
   "display_name": "qiskitdevl",
   "language": "python",
   "name": "qiskitdevl"
  },
  "language_info": {
   "codemirror_mode": {
    "name": "ipython",
    "version": 3
   },
   "file_extension": ".py",
   "mimetype": "text/x-python",
   "name": "python",
   "nbconvert_exporter": "python",
   "pygments_lexer": "ipython3",
   "version": "3.8.2"
  },
  "pycharm": {
   "stem_cell": {
    "cell_type": "raw",
    "metadata": {
     "collapsed": false
    },
    "source": []
   }
  }
 },
 "nbformat": 4,
 "nbformat_minor": 2
}
