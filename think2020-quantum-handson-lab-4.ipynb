{
 "cells": [
  {
   "cell_type": "markdown",
   "metadata": {},
   "source": [
    "# Variational Quantum Eigensolvers (VQE)"
   ]
  },
  {
   "cell_type": "markdown",
   "metadata": {},
   "source": [
    "### Problem: Given a Hamiltonian $H$, find its ground state energy.\n",
    "\n",
    "**Solution**: take advantage of the **variational principle**. \n",
    "\n",
    "Variational principle: given $H$ whose minimum eigenvalue is $\\lambda_{min} \\equiv \\langle\\psi_{min}\\vert H \\vert\\psi_{min}\\rangle$ and any wavefunction $\\vert\\psi\\rangle$, \n",
    "\n",
    "$$\n",
    "\\lambda_{min} \\leq \\langle\\psi\\vert H \\vert\\psi\\rangle\n",
    "$$\n",
    "\n",
    "**Method**: Iteratively update $\\vert\\psi\\rangle$ and look for minima in $\\langle\\psi\\vert H \\vert\\psi\\rangle$."
   ]
  },
  {
   "cell_type": "markdown",
   "metadata": {},
   "source": [
    "### Let's do this for the single-qubit Hamiltionian\n",
    "\n",
    "$$\n",
    "H = \\sum\\limits_{i\\in(x,y,z)}\\alpha_i\\sigma_i\n",
    "$$"
   ]
  },
  {
   "cell_type": "code",
   "execution_count": 1,
   "metadata": {},
   "outputs": [],
   "source": [
    "import warnings\n",
    "warnings.filterwarnings('ignore')"
   ]
  },
  {
   "cell_type": "code",
   "execution_count": 2,
   "metadata": {},
   "outputs": [
    {
     "name": "stdout",
     "output_type": "stream",
     "text": [
      "[[ 1.+0.j -1.+0.j]\n",
      " [-1.+0.j -1.+0.j]]\n"
     ]
    }
   ],
   "source": [
    "import numpy as np\n",
    "\n",
    "alpha_x = -1\n",
    "alpha_y = 0\n",
    "alpha_z = 1\n",
    "\n",
    "sigma_x = np.array([[0, 1], [1, 0]])\n",
    "sigma_y = np.array([[0, -1j], [1j, 0]])\n",
    "sigma_z = np.array([[1, 0], [0, -1]])\n",
    "\n",
    "Hamiltonian = alpha_x * sigma_x + alpha_y * sigma_y + alpha_z * sigma_z\n",
    "print(Hamiltonian)"
   ]
  },
  {
   "cell_type": "markdown",
   "metadata": {},
   "source": [
    "You can decompose a Hamiltonian generally into the Pauli basis using well-known tricks. Here's a single-qubit example."
   ]
  },
  {
   "cell_type": "code",
   "execution_count": 3,
   "metadata": {},
   "outputs": [
    {
     "name": "stdout",
     "output_type": "stream",
     "text": [
      "-1.0 0j 1.0\n"
     ]
    }
   ],
   "source": [
    "def get_hamiltonian_pauli_coeffs():\n",
    "\n",
    "    sigma_x = np.array([[0, 1], [1, 0]])\n",
    "    sigma_y = np.array([[0, -1j], [1j, 0]])\n",
    "    sigma_z = np.array([[1, 0], [0, -1]])\n",
    "    \n",
    "    a_x = 0.5*np.trace(np.matmul(Hamiltonian, sigma_x))\n",
    "    a_y = 0.5*np.trace(np.matmul(Hamiltonian, sigma_y))\n",
    "    a_z = 0.5*np.trace(np.matmul(Hamiltonian, sigma_z))\n",
    "    \n",
    "    return [a_x, a_y, a_z]\n",
    "\n",
    "Hamiltonian = [[ 1, -1], [ -1, -1]]\n",
    "[alpha_x, alpha_y, alpha_z] = get_hamiltonian_pauli_coeffs()\n",
    "print(alpha_x, alpha_y, alpha_z)"
   ]
  },
  {
   "cell_type": "markdown",
   "metadata": {},
   "source": [
    "### Method 1: Exact solution"
   ]
  },
  {
   "cell_type": "code",
   "execution_count": 4,
   "metadata": {},
   "outputs": [
    {
     "name": "stdout",
     "output_type": "stream",
     "text": [
      "Eigenvector [ 0.92387953 -0.38268343] has energy 1.414213562373095\n",
      "Eigenvector [0.38268343 0.92387953] has energy -1.4142135623730951\n"
     ]
    }
   ],
   "source": [
    "from numpy import linalg as LA\n",
    "eigenvalues, eigenvectors = LA.eig(Hamiltonian)\n",
    "for ii, eigenvalue in enumerate(eigenvalues):\n",
    "    print(f\"Eigenvector {eigenvectors[:,ii]} has energy {eigenvalue}\")\n",
    "\n",
    "exact_eigenvector = eigenvectors[:,np.argmin(eigenvalues)]\n",
    "exact_eigenvalue = np.min(eigenvalues)"
   ]
  },
  {
   "cell_type": "markdown",
   "metadata": {},
   "source": [
    "### Method 2: VQE"
   ]
  },
  {
   "cell_type": "markdown",
   "metadata": {},
   "source": [
    "We need three components. \n",
    "1. Create a candidate wavefunction $\\vert\\psi(\\mathbf{\\theta})\\rangle$\n",
    "2. Compute the expectation value $\\langle\\psi(\\mathbf{\\theta})\\vert H \\vert\\psi(\\mathbf{\\theta})\\rangle$\n",
    "3. Set up an iterator that drives the above two functions"
   ]
  },
  {
   "cell_type": "markdown",
   "metadata": {},
   "source": [
    "### Create $\\vert\\psi(\\mathbf{\\theta})\\rangle$"
   ]
  },
  {
   "cell_type": "code",
   "execution_count": 5,
   "metadata": {},
   "outputs": [],
   "source": [
    "from qiskit import QuantumCircuit\n",
    "\n",
    "def create_psi(params):\n",
    "    theta = params[0]\n",
    "    phi = params[1]\n",
    "    lam = params[2]\n",
    "    mycircuit = QuantumCircuit(1)\n",
    "    mycircuit.u3(theta, phi, lam, 0)\n",
    "    \n",
    "    return mycircuit"
   ]
  },
  {
   "cell_type": "markdown",
   "metadata": {},
   "source": [
    "### Compute the expectation value of $\\vert\\psi(\\mathbf{\\theta})\\rangle$"
   ]
  },
  {
   "cell_type": "markdown",
   "metadata": {},
   "source": [
    "Notice that $\\langle\\psi(\\mathbf{\\theta})\\vert H \\vert\\psi(\\mathbf{\\theta})\\rangle = \\sum\\limits_{i\\in(x,y,z)}\\alpha_i\\langle\\psi(\\mathbf{\\theta})\\vert\\sigma_i\\vert\\psi(\\mathbf{\\theta})\\rangle$\n",
    "\n",
    "Also notice that in Qiskit, measurements are along $Z$ axis. In other words, a measurement in Qiskit is \n",
    "\n",
    "$$\\text{measure}[\\vert\\psi(\\mathbf{\\theta})\\rangle]\\equiv \\langle\\psi(\\mathbf{\\theta})\\vert\\sigma_z\\vert\\psi(\\mathbf{\\theta})\\rangle$$\n",
    "\n",
    "Hence, to achieve the other axes of measurements, we need to apply the following tricks.\n",
    "\n",
    "$$\n",
    "\\langle\\psi(\\mathbf{\\theta})\\vert\\sigma_x\\vert\\psi(\\mathbf{\\theta})\\rangle = \n",
    "\\langle\\psi(\\mathbf{\\theta})\\vert H\\sigma_zH\\vert\\psi(\\mathbf{\\theta})\\rangle = \n",
    "\\text{measure}[H\\vert\\psi(\\mathbf{\\theta})\\rangle]\n",
    "$$\n",
    "and\n",
    "$$\n",
    "\\langle\\psi(\\mathbf{\\theta})\\vert\\sigma_y\\vert\\psi(\\mathbf{\\theta})\\rangle = \n",
    "\\langle\\psi(\\mathbf{\\theta})\\vert S\\sigma_xS^{\\dagger}\\vert\\psi(\\mathbf{\\theta})\\rangle = \n",
    "\\langle\\psi(\\mathbf{\\theta})\\vert SH\\sigma_zHS^{\\dagger}\\vert\\psi(\\mathbf{\\theta})\\rangle = \n",
    "\\text{measure}[HS^{\\dagger}\\vert\\psi(\\mathbf{\\theta})\\rangle]\n",
    "$$\n",
    "\n"
   ]
  },
  {
   "cell_type": "code",
   "execution_count": 6,
   "metadata": {},
   "outputs": [],
   "source": [
    "from copy import deepcopy\n",
    "from qiskit import Aer, execute\n",
    "\n",
    "def get_expectation_z(given_circuit):\n",
    "    copied_circuit = deepcopy(given_circuit)\n",
    "    copied_circuit.measure_all()\n",
    "    result = execute(copied_circuit, backend=Aer.get_backend('qasm_simulator'), shots=10000).result()\n",
    "    counts = result.get_counts(copied_circuit)\n",
    "    \n",
    "    if '1' not in counts:\n",
    "        counts['1'] = 0\n",
    "    if '0' not in counts:\n",
    "        counts['0'] = 0\n",
    "        \n",
    "    return_value = 1.0 * counts['0'] - 1.0 * counts['1']\n",
    "    \n",
    "    return_value /= (counts['0'] + counts['1'])\n",
    "    \n",
    "    return return_value\n",
    "\n",
    "def get_expectation_x(given_circuit):\n",
    "    copied_circuit = deepcopy(given_circuit)\n",
    "    copied_circuit.h(0)\n",
    "    copied_circuit.measure_all()\n",
    "    result = execute(copied_circuit, backend=Aer.get_backend('qasm_simulator'), shots=10000).result()\n",
    "    counts = result.get_counts(copied_circuit)\n",
    "    \n",
    "    if '1' not in counts:\n",
    "        counts['1'] = 0\n",
    "    if '0' not in counts:\n",
    "        counts['0'] = 0\n",
    "        \n",
    "    return_value = 1.0 * counts['0'] - 1.0 * counts['1']\n",
    "    \n",
    "    return_value /= (counts['0'] + counts['1'])\n",
    "    \n",
    "    return return_value\n",
    "\n",
    "def get_expectation_y(given_circuit):\n",
    "    copied_circuit = deepcopy(given_circuit)\n",
    "    copied_circuit.sdg(0)\n",
    "    copied_circuit.h(0)\n",
    "    copied_circuit.measure_all()\n",
    "    result = execute(copied_circuit, backend=Aer.get_backend('qasm_simulator'), shots=10000).result()\n",
    "    counts = result.get_counts(copied_circuit)\n",
    "    \n",
    "    if '1' not in counts:\n",
    "        counts['1'] = 0\n",
    "    if '0' not in counts:\n",
    "        counts['0'] = 0\n",
    "        \n",
    "    return_value = 1.0 * counts['0'] - 1.0 * counts['1']\n",
    "    \n",
    "    return_value /= (counts['0'] + counts['1'])\n",
    "    \n",
    "    return return_value\n",
    "\n",
    "def get_expectation_value(given_circuit):\n",
    "    expectation_x = get_expectation_x(given_circuit)    \n",
    "    expectation_y = get_expectation_y(given_circuit)\n",
    "    expectation_z = get_expectation_z(given_circuit)\n",
    "    \n",
    "    total_expectation = alpha_x * expectation_x + alpha_y * expectation_y + alpha_z * expectation_z\n",
    "    \n",
    "    return total_expectation"
   ]
  },
  {
   "cell_type": "code",
   "execution_count": 7,
   "metadata": {},
   "outputs": [
    {
     "data": {
      "text/plain": [
       "(0.981+0j)"
      ]
     },
     "execution_count": 7,
     "metadata": {},
     "output_type": "execute_result"
    }
   ],
   "source": [
    "get_expectation_value(create_psi([0,0,0]))"
   ]
  },
  {
   "cell_type": "markdown",
   "metadata": {},
   "source": [
    "### Set up classical iterator"
   ]
  },
  {
   "cell_type": "code",
   "execution_count": 8,
   "metadata": {},
   "outputs": [],
   "source": [
    "from scipy.optimize import minimize\n",
    "\n",
    "def run_once(params):\n",
    "    global exp_values\n",
    "    psi_circuit = create_psi(params)\n",
    "    expectation_value = get_expectation_value(psi_circuit)\n",
    "    exp_values.append(expectation_value)\n",
    "\n",
    "    return expectation_value\n",
    "\n",
    "def run_VQE(initial_params):\n",
    "    \n",
    "    ret = minimize(run_once, initial_params, method='COBYLA', \n",
    "                  options = {'tol': 1e-5, 'catol': 1e-5, 'maxiter':5000})\n",
    "\n",
    "    final_value_angles = ret.x\n",
    "    num_evals = ret.nfev\n",
    "    final_expectation = ret.fun\n",
    "    \n",
    "    print(final_value_angles, num_evals, final_expectation)"
   ]
  },
  {
   "cell_type": "code",
   "execution_count": 9,
   "metadata": {},
   "outputs": [
    {
     "name": "stdout",
     "output_type": "stream",
     "text": [
      "[ 2.36422583 -0.0483184  -0.29383747] 46 -1.4076\n"
     ]
    }
   ],
   "source": [
    "exp_values = []\n",
    "run_VQE([0,0,0])"
   ]
  },
  {
   "cell_type": "code",
   "execution_count": 10,
   "metadata": {},
   "outputs": [
    {
     "data": {
      "text/plain": [
       "[<matplotlib.lines.Line2D at 0x139835610>]"
      ]
     },
     "execution_count": 10,
     "metadata": {},
     "output_type": "execute_result"
    },
    {
     "data": {
      "image/png": "[encoded data removed]",
      "text/plain": [
       "<Figure size 432x288 with 1 Axes>"
      ]
     },
     "metadata": {
      "needs_background": "light"
     },
     "output_type": "display_data"
    }
   ],
   "source": [
    "import matplotlib.pyplot as plotter\n",
    "plotter.plot(exp_values)"
   ]
  },
  {
   "cell_type": "code",
   "execution_count": 11,
   "metadata": {
    "scrolled": false
   },
   "outputs": [
    {
     "data": {
      "text/plain": [
       "{'optimal_parameters': {Parameter(θ[0]): 0.18787357200186935, Parameter(θ[1]): -0.12254440630788077, Parameter(θ[2]): -0.9187330837559416, Parameter(θ[3]): 2.1345173158282713, Parameter(θ[4]): 0.11012765198902451, Parameter(θ[5]): 1.21522715648723, Parameter(θ[6]): -2.2005970486982807, Parameter(θ[7]): 1.7657053144151547, Parameter(θ[8]): 3.046646644084568, Parameter(θ[9]): 0.21881783721514494, Parameter(θ[10]): -1.9868863106876926, Parameter(θ[11]): 2.0604835961372605, Parameter(θ[12]): 0.32897571954137067, Parameter(θ[13]): 1.8714625846903197, Parameter(θ[14]): -2.3952304115801955, Parameter(θ[15]): -0.6473647930746984}, 'optimal_point': array([ 0.18787357, -0.12254441, -0.91873308,  2.13451732,  0.11012765,\n",
       "        1.21522716, -2.20059705,  1.76570531,  3.04664664,  0.21881784,\n",
       "       -1.98688631,  2.0604836 ,  0.32897572,  1.87146258, -2.39523041,\n",
       "       -0.64736479]), 'optimal_value': -0.99999995573579, 'optimizer_evals': 932, 'optimizer_time': 3.474057912826538, 'eigenvalue': (-0.99999995573579+0j), 'eigenstate': array([-8.56919389e-05-1.11032403e-04j,  9.03991408e-06-1.21506778e-05j,\n",
       "        2.02212972e-05-4.26912271e-05j, -8.49502433e-01-5.27584680e-01j]), 'cost_function_evals': 932}"
      ]
     },
     "execution_count": 11,
     "metadata": {},
     "output_type": "execute_result"
    }
   ],
   "source": [
    "from qiskit.aqua.algorithms import VQE\n",
    "from qiskit.aqua.operators import MatrixOperator, WeightedPauliOperator\n",
    "from qiskit.aqua.components.variational_forms import RYRZ\n",
    "from qiskit.aqua.components.optimizers import COBYLA\n",
    "from qiskit.circuit.library import EfficientSU2\n",
    "\n",
    "optimizer = COBYLA()\n",
    "ansatz = RYRZ(num_qubits=2)\n",
    "\n",
    "Hamiltonian = [ [1,0,0,0],\n",
    "                [0,1,0,0],\n",
    "                [0,0,1,0],\n",
    "                [0,0,0,-1]]\n",
    "\n",
    "operator = MatrixOperator(Hamiltonian)\n",
    "vqe_instance = VQE(operator, var_form=ansatz, optimizer = optimizer)\n",
    "sv_sim = Aer.get_backend('statevector_simulator')\n",
    "vqe_instance.run(sv_sim)"
   ]
  }
 ],
 "metadata": {
  "kernelspec": {
   "display_name": "qiskitdevlm",
   "language": "python",
   "name": "qiskitdevlm"
  },
  "language_info": {
   "codemirror_mode": {
    "name": "ipython",
    "version": 3
   },
   "file_extension": ".py",
   "mimetype": "text/x-python",
   "name": "python",
   "nbconvert_exporter": "python",
   "pygments_lexer": "ipython3",
   "version": "3.8.2"
  }
 },
 "nbformat": 4,
 "nbformat_minor": 2
}
